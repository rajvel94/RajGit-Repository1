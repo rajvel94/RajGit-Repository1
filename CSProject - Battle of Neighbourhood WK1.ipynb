{
 "cells": [
  {
   "cell_type": "code",
   "execution_count": null,
   "metadata": {
    "collapsed": true
   },
   "outputs": [],
   "source": []
  },
  {
   "cell_type": "markdown",
   "metadata": {},
   "source": [
    "# Introduction\n",
    "## BUSINESS ANALYSIS\n",
    "Toronto is the provincial capital of Ontario and the most populous city in Canada, with a population of 2,731,571 as of 2016. \n",
    "Current to 2016, the Toronto census metropolitan area (CMA), of which the majority is within the Greater Toronto Area (GTA), \n",
    "held a population of 5,928,040, making it Canada's most populous CMA. The city is the anchor of the Golden Horseshoe, an urban \n",
    "agglomeration of 9,245,438 people (as of 2016) surrounding the western end of Lake Ontario.Toronto is an international \n",
    "centre of business, finance, arts, and culture, and is recognized as one of the most multicultural and cosmopolitan cities in the world.\n",
    "\n",
    "The diverse population of Toronto reflects its current and historical role as an important destination for immigrants to Canada.\n",
    "More than 50 percent of residents belong to a visible minority population group,and over 200 distinct ethnic origins are represented \n",
    "among its inhabitants.While the majority of Torontonians speak English as their primary language, over 160 languages are spoken in the city.\n",
    "\n",
    "According to the 2016 Census, the racial composition of Toronto was: White: 50.2% East Indian: 12.7% (10.8% Chinese, 1.4% Korean, 0.5% Japanese)\n",
    "South Asian: 12.3% Black: 8.5% Southeast Asian: 7.0% (5.1% Filipino) Latin American: 2.8% West Asian: 2.0% Arab: 1.1% Aborginal: 0.7% (0.5% First Nations, 0.2% Metis) \n",
    "Two or more races: 1.5% Other race: 1.3%\n",
    "\n",
    "With it's diverse culture , comes diverse food items. There are many resturants in Toronto, each beloning to different categories like Chinese , Indian , French , Italian etc.\n",
    "       \n",
    "On Jan. 1, 1998, Toronto's amalgamation took effect, merging the six previous municipalities that made up Metro Toronto – Etobicoke, Scarborough, \n",
    "York, East York, North York, and the City of Toronto, into a new singular City of Toronto.\n",
    "So as part of this project , we will list and visualize all major parts of Toronto that has great indian resturants.\n",
    "\n",
    "Conclusion Based on Dataset(  Neighbourhood rating Likes , rated & Tips)\n",
    "•\tWhat is best location in Toronto  for Indian Cuisine ?\n",
    "•\tWhich areas have potential Indian Resturant Market ?\n",
    "•\tWhich all areas lack Indian Restaurants ?\n"
   ]
  },
  {
   "cell_type": "markdown",
   "metadata": {},
   "source": [
    "# Data\n",
    "For this project we need the following data :\n",
    "•\tToronto data that contains list Boroughs, Neighborhoods along with their latitude and longitude.\n",
    "\tData source : https://en.wikipedia.org/wiki/List_of_postal_codes_of_Canada:_M\n",
    "\tDescription : This data set contains the required information. And we will use this data set to explore various neighborhoods of Toronto\n",
    "\tUse Beautiful soup to Scrap library\n",
    "•\tIndian restaurants in each neighborhood of  Toronto\n",
    "\tData source : Fousquare API\n",
    "\tDescription : By using this api we will get all the venues in each neighborhood. We can filter these venues to get only indian Restaurants.\n",
    "•\tGeoSpace data- 'https://cocl.us/Geospatial_data'\n",
    "\tDescription : By using this geo space data we will get the Toronto Borough boundaries that will help us visualize choropleth map.\n",
    "Approach\n",
    "\tCollect the Toronto data from https://en.wikipedia.org/wiki/List_of_postal_codes_of_Canada:_M and 'https://cocl.us/Geospatial_data' for Lattitude and Longitude\n",
    "•\tUsing FourSquare API we will find all venues for each neighborhood.\n",
    "•\tFilter out all venues that are Indian Restaurants.\n",
    "•\tFind rating , tips and like count for each Indian Restaurants using FourSquare API.\n",
    "•\tUsing rating for each restaurant , we will sort that data.\n",
    "•\tVisualize the Ranking of neighborhoods using folium library(python)\n",
    "Conclusion Based on Dataset(  Neighbourhood rating Likes , rated & Tips)\n",
    "•\tWhat is best location in Toronto  for Indian Cuisine ?\n",
    "•\tWhich areas have potential Indian Resturant Market ?\n",
    "•\tWhich all areas lack Indian Restaurants ?\n",
    "Analysis\n",
    "We will import the required libraries for python.\n",
    "•\tpandas and numpy for handling data.\n",
    "•\trequest module for using FourSquare API.\n",
    "•\tgeopy to get co-ordinates of  Toronto\n",
    "•\tfolium to visualize the results on a map\n"
   ]
  },
  {
   "cell_type": "code",
   "execution_count": null,
   "metadata": {},
   "outputs": [],
   "source": []
  }
 ],
 "metadata": {
  "kernelspec": {
   "display_name": "Python 3.6",
   "language": "python",
   "name": "python3"
  },
  "language_info": {
   "codemirror_mode": {
    "name": "ipython",
    "version": 3
   },
   "file_extension": ".py",
   "mimetype": "text/x-python",
   "name": "python",
   "nbconvert_exporter": "python",
   "pygments_lexer": "ipython3",
   "version": "3.6.8"
  }
 },
 "nbformat": 4,
 "nbformat_minor": 1
}
